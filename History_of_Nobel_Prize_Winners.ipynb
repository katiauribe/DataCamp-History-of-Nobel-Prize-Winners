{
 "cells": [
  {
   "cell_type": "markdown",
   "id": "db5bd2ce-918a-4f7d-a927-a3ea74c4b456",
   "metadata": {},
   "source": [
    "The Nobel Prize has been among the most prestigious international awards since 1901. Each year, awards are bestowed in chemistry, literature, physics, physiology or medicine, economics, and peace. In addition to the honor, prestige, and substantial prize money, the recipient also gets a gold medal with an image of Alfred Nobel (1833 - 1896), who established the prize.\n",
    "\n",
    "![](Nobel_Prize.png)\n",
    "\n",
    "The Nobel Foundation has made a dataset available of all prize winners from the outset of the awards from 1901 to 2023. The dataset used in this project is from the Nobel Prize API and is available in the `nobel.csv` file in the `data` folder.\n",
    "\n",
    "In this project, you'll get a chance to explore and answer several questions related to this prizewinning data. And we encourage you then to explore further questions that you're interested in!\n",
    "\n",
    "(Source: DataCamp)"
   ]
  },
  {
   "cell_type": "code",
   "execution_count": 3,
   "id": "11fd5946-7bd1-495c-aa7f-ff6e7e4a350b",
   "metadata": {
    "executionCancelledAt": null,
    "executionTime": 4422,
    "lastExecutedAt": 1726219948437,
    "lastExecutedByKernel": "34ab87f2-68d5-4823-8b9a-e74d5426d582",
    "lastScheduledRunId": null,
    "lastSuccessfullyExecutedCode": "# Loading in required libraries\nimport pandas as pd\nimport matplotlib.pyplot as plt\nimport seaborn as sns\nimport numpy as np\n\n# Loading in the data\nwinners = pd.read_csv('data/nobel.csv')\nwinners.head()",
    "outputsMetadata": {
     "0": {
      "height": 218,
      "type": "dataFrame"
     }
    }
   },
   "outputs": [
    {
     "data": {
      "text/html": [
       "<div>\n",
       "<style scoped>\n",
       "    .dataframe tbody tr th:only-of-type {\n",
       "        vertical-align: middle;\n",
       "    }\n",
       "\n",
       "    .dataframe tbody tr th {\n",
       "        vertical-align: top;\n",
       "    }\n",
       "\n",
       "    .dataframe thead th {\n",
       "        text-align: right;\n",
       "    }\n",
       "</style>\n",
       "<table border=\"1\" class=\"dataframe\">\n",
       "  <thead>\n",
       "    <tr style=\"text-align: right;\">\n",
       "      <th></th>\n",
       "      <th>year</th>\n",
       "      <th>category</th>\n",
       "      <th>prize</th>\n",
       "      <th>motivation</th>\n",
       "      <th>prize_share</th>\n",
       "      <th>laureate_id</th>\n",
       "      <th>laureate_type</th>\n",
       "      <th>full_name</th>\n",
       "      <th>birth_date</th>\n",
       "      <th>birth_city</th>\n",
       "      <th>birth_country</th>\n",
       "      <th>sex</th>\n",
       "      <th>organization_name</th>\n",
       "      <th>organization_city</th>\n",
       "      <th>organization_country</th>\n",
       "      <th>death_date</th>\n",
       "      <th>death_city</th>\n",
       "      <th>death_country</th>\n",
       "    </tr>\n",
       "  </thead>\n",
       "  <tbody>\n",
       "    <tr>\n",
       "      <th>0</th>\n",
       "      <td>1901</td>\n",
       "      <td>Chemistry</td>\n",
       "      <td>The Nobel Prize in Chemistry 1901</td>\n",
       "      <td>\"in recognition of the extraordinary services ...</td>\n",
       "      <td>1/1</td>\n",
       "      <td>160</td>\n",
       "      <td>Individual</td>\n",
       "      <td>Jacobus Henricus van 't Hoff</td>\n",
       "      <td>1852-08-30</td>\n",
       "      <td>Rotterdam</td>\n",
       "      <td>Netherlands</td>\n",
       "      <td>Male</td>\n",
       "      <td>Berlin University</td>\n",
       "      <td>Berlin</td>\n",
       "      <td>Germany</td>\n",
       "      <td>1911-03-01</td>\n",
       "      <td>Berlin</td>\n",
       "      <td>Germany</td>\n",
       "    </tr>\n",
       "    <tr>\n",
       "      <th>1</th>\n",
       "      <td>1901</td>\n",
       "      <td>Literature</td>\n",
       "      <td>The Nobel Prize in Literature 1901</td>\n",
       "      <td>\"in special recognition of his poetic composit...</td>\n",
       "      <td>1/1</td>\n",
       "      <td>569</td>\n",
       "      <td>Individual</td>\n",
       "      <td>Sully Prudhomme</td>\n",
       "      <td>1839-03-16</td>\n",
       "      <td>Paris</td>\n",
       "      <td>France</td>\n",
       "      <td>Male</td>\n",
       "      <td>NaN</td>\n",
       "      <td>NaN</td>\n",
       "      <td>NaN</td>\n",
       "      <td>1907-09-07</td>\n",
       "      <td>Châtenay</td>\n",
       "      <td>France</td>\n",
       "    </tr>\n",
       "    <tr>\n",
       "      <th>2</th>\n",
       "      <td>1901</td>\n",
       "      <td>Medicine</td>\n",
       "      <td>The Nobel Prize in Physiology or Medicine 1901</td>\n",
       "      <td>\"for his work on serum therapy, especially its...</td>\n",
       "      <td>1/1</td>\n",
       "      <td>293</td>\n",
       "      <td>Individual</td>\n",
       "      <td>Emil Adolf von Behring</td>\n",
       "      <td>1854-03-15</td>\n",
       "      <td>Hansdorf (Lawice)</td>\n",
       "      <td>Prussia (Poland)</td>\n",
       "      <td>Male</td>\n",
       "      <td>Marburg University</td>\n",
       "      <td>Marburg</td>\n",
       "      <td>Germany</td>\n",
       "      <td>1917-03-31</td>\n",
       "      <td>Marburg</td>\n",
       "      <td>Germany</td>\n",
       "    </tr>\n",
       "    <tr>\n",
       "      <th>3</th>\n",
       "      <td>1901</td>\n",
       "      <td>Peace</td>\n",
       "      <td>The Nobel Peace Prize 1901</td>\n",
       "      <td>NaN</td>\n",
       "      <td>1/2</td>\n",
       "      <td>462</td>\n",
       "      <td>Individual</td>\n",
       "      <td>Jean Henry Dunant</td>\n",
       "      <td>1828-05-08</td>\n",
       "      <td>Geneva</td>\n",
       "      <td>Switzerland</td>\n",
       "      <td>Male</td>\n",
       "      <td>NaN</td>\n",
       "      <td>NaN</td>\n",
       "      <td>NaN</td>\n",
       "      <td>1910-10-30</td>\n",
       "      <td>Heiden</td>\n",
       "      <td>Switzerland</td>\n",
       "    </tr>\n",
       "    <tr>\n",
       "      <th>4</th>\n",
       "      <td>1901</td>\n",
       "      <td>Peace</td>\n",
       "      <td>The Nobel Peace Prize 1901</td>\n",
       "      <td>NaN</td>\n",
       "      <td>1/2</td>\n",
       "      <td>463</td>\n",
       "      <td>Individual</td>\n",
       "      <td>Frédéric Passy</td>\n",
       "      <td>1822-05-20</td>\n",
       "      <td>Paris</td>\n",
       "      <td>France</td>\n",
       "      <td>Male</td>\n",
       "      <td>NaN</td>\n",
       "      <td>NaN</td>\n",
       "      <td>NaN</td>\n",
       "      <td>1912-06-12</td>\n",
       "      <td>Paris</td>\n",
       "      <td>France</td>\n",
       "    </tr>\n",
       "  </tbody>\n",
       "</table>\n",
       "</div>"
      ],
      "text/plain": [
       "   year    category                                           prize  \\\n",
       "0  1901   Chemistry               The Nobel Prize in Chemistry 1901   \n",
       "1  1901  Literature              The Nobel Prize in Literature 1901   \n",
       "2  1901    Medicine  The Nobel Prize in Physiology or Medicine 1901   \n",
       "3  1901       Peace                      The Nobel Peace Prize 1901   \n",
       "4  1901       Peace                      The Nobel Peace Prize 1901   \n",
       "\n",
       "                                          motivation prize_share  laureate_id  \\\n",
       "0  \"in recognition of the extraordinary services ...         1/1          160   \n",
       "1  \"in special recognition of his poetic composit...         1/1          569   \n",
       "2  \"for his work on serum therapy, especially its...         1/1          293   \n",
       "3                                                NaN         1/2          462   \n",
       "4                                                NaN         1/2          463   \n",
       "\n",
       "  laureate_type                     full_name  birth_date         birth_city  \\\n",
       "0    Individual  Jacobus Henricus van 't Hoff  1852-08-30          Rotterdam   \n",
       "1    Individual               Sully Prudhomme  1839-03-16              Paris   \n",
       "2    Individual        Emil Adolf von Behring  1854-03-15  Hansdorf (Lawice)   \n",
       "3    Individual             Jean Henry Dunant  1828-05-08             Geneva   \n",
       "4    Individual                Frédéric Passy  1822-05-20              Paris   \n",
       "\n",
       "      birth_country   sex   organization_name organization_city  \\\n",
       "0       Netherlands  Male   Berlin University            Berlin   \n",
       "1            France  Male                 NaN               NaN   \n",
       "2  Prussia (Poland)  Male  Marburg University           Marburg   \n",
       "3       Switzerland  Male                 NaN               NaN   \n",
       "4            France  Male                 NaN               NaN   \n",
       "\n",
       "  organization_country  death_date death_city death_country  \n",
       "0              Germany  1911-03-01     Berlin       Germany  \n",
       "1                  NaN  1907-09-07   Châtenay        France  \n",
       "2              Germany  1917-03-31    Marburg       Germany  \n",
       "3                  NaN  1910-10-30     Heiden   Switzerland  \n",
       "4                  NaN  1912-06-12      Paris        France  "
      ]
     },
     "execution_count": 3,
     "metadata": {},
     "output_type": "execute_result"
    }
   ],
   "source": [
    "# Loading in required libraries\n",
    "import pandas as pd\n",
    "import matplotlib.pyplot as plt\n",
    "import seaborn as sns\n",
    "import numpy as np\n",
    "\n",
    "# Loading in the data\n",
    "winners = pd.read_csv('nobel.csv')\n",
    "winners.head()"
   ]
  },
  {
   "cell_type": "code",
   "execution_count": 4,
   "id": "2f01eaee-6435-4b72-baa4-37d28674c7a6",
   "metadata": {
    "executionCancelledAt": null,
    "executionTime": 328,
    "lastExecutedAt": 1725966829914,
    "lastExecutedByKernel": "e0fd8e4b-2fd8-436a-864d-4cfacab503ba",
    "lastScheduledRunId": null,
    "lastSuccessfullyExecutedCode": "sns.catplot(x='sex', data=winners, kind='count', hue='sex')\nplt.show()"
   },
   "outputs": [
    {
     "data": {
      "image/png": "[encoded data removed]",
      "text/plain": [
       "<Figure size 500x500 with 1 Axes>"
      ]
     },
     "metadata": {},
     "output_type": "display_data"
    }
   ],
   "source": [
    "# What is the most commonly awarded gender?\n",
    "sns.catplot(x='sex', data=winners, kind='count', hue='sex')\n",
    "plt.show()"
   ]
  },
  {
   "cell_type": "code",
   "execution_count": 5,
   "id": "1a610852-eec8-4781-bfdf-75bc7eb4c5f7",
   "metadata": {
    "executionCancelledAt": null,
    "executionTime": 49,
    "lastExecutedAt": 1725966829963,
    "lastExecutedByKernel": "e0fd8e4b-2fd8-436a-864d-4cfacab503ba",
    "lastScheduledRunId": null,
    "lastSuccessfullyExecutedCode": "top_gender = winners['sex'].mode()[0]\nprint(top_gender)",
    "outputsMetadata": {
     "0": {
      "height": 38,
      "type": "stream"
     }
    }
   },
   "outputs": [
    {
     "name": "stdout",
     "output_type": "stream",
     "text": [
      "Male\n"
     ]
    }
   ],
   "source": [
    "top_gender = winners['sex'].mode()[0]\n",
    "print(top_gender)"
   ]
  },
  {
   "cell_type": "code",
   "execution_count": 6,
   "id": "e186155c-3d2c-46f4-8137-113f01a8c57a",
   "metadata": {
    "executionCancelledAt": null,
    "executionTime": 48,
    "lastExecutedAt": 1725966830011,
    "lastExecutedByKernel": "e0fd8e4b-2fd8-436a-864d-4cfacab503ba",
    "lastScheduledRunId": null,
    "lastSuccessfullyExecutedCode": "top_country = winners['birth_country'].mode()[0]\nprint(top_country)",
    "outputsMetadata": {
     "0": {
      "height": 38,
      "type": "stream"
     }
    }
   },
   "outputs": [
    {
     "name": "stdout",
     "output_type": "stream",
     "text": [
      "United States of America\n"
     ]
    }
   ],
   "source": [
    "# What is the most commonly awarded birth country?\n",
    "top_country = winners['birth_country'].mode()[0]\n",
    "print(top_country)"
   ]
  },
  {
   "cell_type": "code",
   "execution_count": 7,
   "id": "8504b0ae-b349-4e9b-b15b-348ae2a844f5",
   "metadata": {
    "executionCancelledAt": null,
    "executionTime": 56,
    "lastExecutedAt": 1725966830067,
    "lastExecutedByKernel": "e0fd8e4b-2fd8-436a-864d-4cfacab503ba",
    "lastScheduledRunId": null,
    "lastSuccessfullyExecutedCode": "winners['US_winners'] = winners['birth_country'] == 'United States of America'\nwinners['decade'] = (np.floor(winners['year'] / 10) * 10).astype(int)\nwins_by_decade = winners.groupby('decade')['US_winners'].agg('mean').sort_values(ascending=False)\nmax_decade_usa = wins_by_decade.index[0]\nprint(max_decade_usa)",
    "outputsMetadata": {
     "0": {
      "height": 38,
      "type": "stream"
     }
    }
   },
   "outputs": [
    {
     "name": "stdout",
     "output_type": "stream",
     "text": [
      "2000\n"
     ]
    }
   ],
   "source": [
    "# Which decade had the highest ratio of US-born Nobel Prize winners to total winners in all categories?\n",
    "winners['US_winners'] = winners['birth_country'] == 'United States of America'\n",
    "winners['decade'] = (np.floor(winners['year'] / 10) * 10).astype(int)\n",
    "wins_by_decade = winners.groupby('decade')['US_winners'].agg('mean').sort_values(ascending=False)\n",
    "max_decade_usa = wins_by_decade.index[0]\n",
    "print(max_decade_usa)"
   ]
  },
  {
   "cell_type": "code",
   "execution_count": 8,
   "id": "b5eeaf6f-d38a-478c-889b-44616831beb7",
   "metadata": {
    "executionCancelledAt": null,
    "executionTime": 52,
    "lastExecutedAt": 1725966830119,
    "lastExecutedByKernel": "e0fd8e4b-2fd8-436a-864d-4cfacab503ba",
    "lastScheduledRunId": null,
    "lastSuccessfullyExecutedCode": "winners['female'] = winners['sex'] == 'Female'\nfemale_wins_by_decade = winners.groupby(['decade', 'category'])['female'].agg('mean').sort_values(ascending=False)\nmax_female_dict = {female_wins_by_decade.index[0][0]: female_wins_by_decade.index[0][1]}\nprint(max_female_dict)",
    "outputsMetadata": {
     "0": {
      "height": 38,
      "type": "stream"
     }
    }
   },
   "outputs": [
    {
     "name": "stdout",
     "output_type": "stream",
     "text": [
      "{2020: 'Literature'}\n"
     ]
    }
   ],
   "source": [
    "# Which decade and Nobel Prize category combination had the highest proportion of female laureates?\n",
    "winners['female'] = winners['sex'] == 'Female'\n",
    "female_wins_by_decade = winners.groupby(['decade', 'category'])['female'].agg('mean').sort_values(ascending=False)\n",
    "max_female_dict = {female_wins_by_decade.index[0][0]: female_wins_by_decade.index[0][1]}\n",
    "print(max_female_dict)"
   ]
  },
  {
   "cell_type": "code",
   "execution_count": 9,
   "id": "2a6fdbb3-97d6-4c74-aefe-88095a5f1002",
   "metadata": {
    "executionCancelledAt": null,
    "executionTime": 56,
    "lastExecutedAt": 1725966830175,
    "lastExecutedByKernel": "e0fd8e4b-2fd8-436a-864d-4cfacab503ba",
    "lastScheduledRunId": null,
    "lastSuccessfullyExecutedCode": "female_winners = winners[winners['sex'] == 'Female'].reset_index()\nfirst_woman_name = female_winners.loc[0, 'full_name']\nprint(first_woman_name)\nfirst_woman_category = female_winners.loc[0, 'category']\nprint(first_woman_category)",
    "outputsMetadata": {
     "0": {
      "height": 59,
      "type": "stream"
     },
     "1": {
      "height": 525,
      "type": "dataFrame"
     }
    }
   },
   "outputs": [
    {
     "name": "stdout",
     "output_type": "stream",
     "text": [
      "Marie Curie, née Sklodowska\n",
      "Physics\n"
     ]
    }
   ],
   "source": [
    "# Who was the first woman to receive a Nobel Prize, and in what category?\n",
    "female_winners = winners[winners['sex'] == 'Female'].reset_index()\n",
    "first_woman_name = female_winners.loc[0, 'full_name']\n",
    "print(first_woman_name)\n",
    "first_woman_category = female_winners.loc[0, 'category']\n",
    "print(first_woman_category)"
   ]
  },
  {
   "cell_type": "code",
   "execution_count": 10,
   "id": "c6637edd-f9b7-473f-9403-0a96a9de643a",
   "metadata": {
    "executionCancelledAt": null,
    "executionTime": 53,
    "lastExecutedAt": 1725966830228,
    "lastExecutedByKernel": "e0fd8e4b-2fd8-436a-864d-4cfacab503ba",
    "lastScheduledRunId": null,
    "lastSuccessfullyExecutedCode": "individual_counts = winners['full_name'].value_counts()\nrepeat_individuals = individual_counts[individual_counts > 1]\nrepeat_list = repeat_individuals.index.to_list()\nprint(repeat_list)",
    "outputsMetadata": {
     "0": {
      "height": 80,
      "type": "stream"
     }
    },
    "tags": []
   },
   "outputs": [
    {
     "name": "stdout",
     "output_type": "stream",
     "text": [
      "['Comité international de la Croix Rouge (International Committee of the Red Cross)', 'Linus Carl Pauling', 'John Bardeen', 'Frederick Sanger', 'Marie Curie, née Sklodowska', 'Office of the United Nations High Commissioner for Refugees (UNHCR)']\n"
     ]
    }
   ],
   "source": [
    "# Which individuals or organizations have won more than one Nobel Prize throughout the years?\n",
    "individual_counts = winners['full_name'].value_counts()\n",
    "repeat_individuals = individual_counts[individual_counts > 1]\n",
    "repeat_list = repeat_individuals.index.to_list()\n",
    "print(repeat_list)"
   ]
  }
 ],
 "metadata": {
  "editor": "DataCamp Workspace",
  "kernelspec": {
   "display_name": "Python 3 (ipykernel)",
   "language": "python",
   "name": "python3"
  },
  "language_info": {
   "codemirror_mode": {
    "name": "ipython",
    "version": 3
   },
   "file_extension": ".py",
   "mimetype": "text/x-python",
   "name": "python",
   "nbconvert_exporter": "python",
   "pygments_lexer": "ipython3",
   "version": "3.11.7"
  }
 },
 "nbformat": 4,
 "nbformat_minor": 5
}
